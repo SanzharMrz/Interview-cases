{
 "cells": [
  {
   "cell_type": "code",
   "execution_count": 260,
   "metadata": {},
   "outputs": [],
   "source": [
    "import pandas as pd\n",
    "import numpy as np\n",
    "import matplotlib.pyplot as plt\n",
    "import seaborn as sns\n",
    "from collections import Counter\n",
    "import itertools\n",
    "import warnings\n",
    "from sklearn.metrics.pairwise import cosine_similarity\n",
    "from sklearn.metrics import jaccard_similarity_score\n",
    "from nltk.metrics import jaccard_distance\n",
    "warnings.simplefilter('ignore')"
   ]
  },
  {
   "cell_type": "code",
   "execution_count": 382,
   "metadata": {},
   "outputs": [],
   "source": [
    "def fitter(name):\n",
    "    res = []\n",
    "    param = []\n",
    "    if name == 'kmeans':\n",
    "        for i in range(350, 450):\n",
    "            kmeans = KMeans(n_clusters=i,n_jobs=-1, random_state=666)\n",
    "            labels = kmeans.fit_predict(matrix)\n",
    "            res.append(silhouette_score(matrix, labels))\n",
    "            param.append(i)\n",
    "        print(np.array(res).mean(), param[np.array(res).argmax()])\n",
    "    elif name=='spectral':\n",
    "        for i in range(350, 450):\n",
    "            model = SpectralClustering(n_clusters=i,n_jobs=-1, random_state=666)\n",
    "            labels = model.fit_predict(matrix)\n",
    "            res.append(silhouette_score(matrix, labels))\n",
    "            param.append(i)\n",
    "        print(np.array(res).mean(), param[np.array(res).argmax()])\n",
    "    elif name=='aglomerative':\n",
    "        for i in range(350, 450):\n",
    "            model = AgglomerativeClustering(n_clusters=i)\n",
    "            labels = model.fit_predict(matrix)\n",
    "            res.append(silhouette_score(matrix, labels))\n",
    "            param.append(i)\n",
    "        print(np.array(res).mean(), param[np.array(res).argmax()])"
   ]
  },
  {
   "cell_type": "code",
   "execution_count": 261,
   "metadata": {},
   "outputs": [],
   "source": [
    "def target_setter(row, number):\n",
    "    \"\"\"setting target val\"\"\"\n",
    "    if row['msisdn']==number:\n",
    "        return new_dict[number]\n",
    "    else:\n",
    "        return row['target']"
   ]
  },
  {
   "cell_type": "code",
   "execution_count": 262,
   "metadata": {},
   "outputs": [],
   "source": [
    "def new_coords(row, coord_param):\n",
    "    \"\"\"transform coords\"\"\"\n",
    "    if coord_param == 'long':\n",
    "        return row[coord_param] + row['max_dist']/1000/2 * np.sin(row['end_angle'] - row['start_angle'])\n",
    "    else:\n",
    "        return row[coord_param] + row['max_dist']/1000/2 * np.cos(row['end_angle'] - row['start_angle'])"
   ]
  },
  {
   "cell_type": "code",
   "execution_count": 263,
   "metadata": {},
   "outputs": [],
   "source": [
    "def plotter(number1, number2):\n",
    "    \"\"\"plottin coords\"\"\"\n",
    "    x = df[df.msisdn == number1][['long','lat']].values[:-1,0]\n",
    "    y = df[df.msisdn == number1][['long','lat']].values[:-1,1]\n",
    "    z = df[df.msisdn == number2][['long','lat']].values[:-1,0]\n",
    "    w = df[df.msisdn == number2][['long','lat']].values[:-1,1] \n",
    "    plt.figure(figsize=(20,10))\n",
    "    c = Counter(zip(x,y))\n",
    "    h = Counter(zip(z,w))\n",
    "    # create a list of the sizes, here multiplied by 10 for scale\n",
    "    s = [10*c[(xx,yy)] for xx,yy in zip(x,y)]\n",
    "    m = [10*h[(zz,ww)] for zz,ww in zip(z,w)]\n",
    "\n",
    "    # plot it\n",
    "    plt.scatter(x, y, s=s, cmap='b')\n",
    "    plt.scatter(z, w, s=m, cmap='r')\n",
    "    plt.title('Координаты перемещения двух номеров')\n",
    "    plt.grid()\n",
    "    plt.show()"
   ]
  },
  {
   "cell_type": "code",
   "execution_count": 264,
   "metadata": {
    "scrolled": true
   },
   "outputs": [
    {
     "name": "stdout",
     "output_type": "stream",
     "text": [
      "\"lac\";\"cid\";\"msisdn\";\"imei\";\"event_type\";\"tstamp\";\"long\";\"lat\";\"max_dist\";\"cell_type\";\"start_angle\";\"end_angle\"\r",
      "\r",
      "\r\n",
      "5029;40798;158529599791;\"353111050313790\";0;1369252800974;37.9305;55.7815;2101;\"OUTDOOR\";220;280\r",
      "\r",
      "\r\n"
     ]
    }
   ],
   "source": [
    "!head -2 '02_Data_test.csv'"
   ]
  },
  {
   "cell_type": "code",
   "execution_count": 265,
   "metadata": {},
   "outputs": [
    {
     "name": "stdout",
     "output_type": "stream",
     "text": [
      "174124 02_Data_test.csv\r\n"
     ]
    }
   ],
   "source": [
    "!wc -l '02_Data_test.csv'  "
   ]
  },
  {
   "cell_type": "code",
   "execution_count": 266,
   "metadata": {},
   "outputs": [
    {
     "name": "stdout",
     "output_type": "stream",
     "text": [
      "17M\t02_Data_test.csv\r\n"
     ]
    }
   ],
   "source": [
    "!du -h '02_Data_test.csv'"
   ]
  },
  {
   "cell_type": "markdown",
   "metadata": {},
   "source": [
    "### 02_Data_test.csv obsing"
   ]
  },
  {
   "cell_type": "code",
   "execution_count": 267,
   "metadata": {},
   "outputs": [],
   "source": [
    "df = pd.read_csv('02_Data_test.csv',sep=';',low_memory=False)"
   ]
  },
  {
   "cell_type": "code",
   "execution_count": 268,
   "metadata": {},
   "outputs": [
    {
     "data": {
      "text/html": [
       "<div>\n",
       "<style scoped>\n",
       "    .dataframe tbody tr th:only-of-type {\n",
       "        vertical-align: middle;\n",
       "    }\n",
       "\n",
       "    .dataframe tbody tr th {\n",
       "        vertical-align: top;\n",
       "    }\n",
       "\n",
       "    .dataframe thead th {\n",
       "        text-align: right;\n",
       "    }\n",
       "</style>\n",
       "<table border=\"1\" class=\"dataframe\">\n",
       "  <thead>\n",
       "    <tr style=\"text-align: right;\">\n",
       "      <th></th>\n",
       "      <th>lac</th>\n",
       "      <th>cid</th>\n",
       "      <th>msisdn</th>\n",
       "      <th>imei</th>\n",
       "      <th>event_type</th>\n",
       "      <th>tstamp</th>\n",
       "      <th>long</th>\n",
       "      <th>lat</th>\n",
       "      <th>max_dist</th>\n",
       "      <th>start_angle</th>\n",
       "      <th>end_angle</th>\n",
       "    </tr>\n",
       "  </thead>\n",
       "  <tbody>\n",
       "    <tr>\n",
       "      <th>count</th>\n",
       "      <td>174123.000000</td>\n",
       "      <td>174123.000000</td>\n",
       "      <td>1.741230e+05</td>\n",
       "      <td>1.625350e+05</td>\n",
       "      <td>174123.00000</td>\n",
       "      <td>1.741230e+05</td>\n",
       "      <td>174123.000000</td>\n",
       "      <td>174123.000000</td>\n",
       "      <td>174123.000000</td>\n",
       "      <td>174123.000000</td>\n",
       "      <td>174123.000000</td>\n",
       "    </tr>\n",
       "    <tr>\n",
       "      <th>mean</th>\n",
       "      <td>6944.234708</td>\n",
       "      <td>30633.213470</td>\n",
       "      <td>1.585294e+11</td>\n",
       "      <td>3.261461e+14</td>\n",
       "      <td>3.04000</td>\n",
       "      <td>1.369389e+12</td>\n",
       "      <td>37.621990</td>\n",
       "      <td>55.726915</td>\n",
       "      <td>1101.721369</td>\n",
       "      <td>175.011644</td>\n",
       "      <td>171.815622</td>\n",
       "    </tr>\n",
       "    <tr>\n",
       "      <th>std</th>\n",
       "      <td>1237.823115</td>\n",
       "      <td>19227.041422</td>\n",
       "      <td>2.320884e+07</td>\n",
       "      <td>1.944775e+14</td>\n",
       "      <td>3.67011</td>\n",
       "      <td>7.286376e+07</td>\n",
       "      <td>0.406022</td>\n",
       "      <td>0.194476</td>\n",
       "      <td>849.669810</td>\n",
       "      <td>107.985232</td>\n",
       "      <td>106.768539</td>\n",
       "    </tr>\n",
       "    <tr>\n",
       "      <th>min</th>\n",
       "      <td>5002.000000</td>\n",
       "      <td>10.000000</td>\n",
       "      <td>1.585000e+11</td>\n",
       "      <td>1.060000e+12</td>\n",
       "      <td>0.00000</td>\n",
       "      <td>1.369253e+12</td>\n",
       "      <td>35.257800</td>\n",
       "      <td>54.373600</td>\n",
       "      <td>1.000000</td>\n",
       "      <td>0.000000</td>\n",
       "      <td>0.000000</td>\n",
       "    </tr>\n",
       "    <tr>\n",
       "      <th>25%</th>\n",
       "      <td>5085.000000</td>\n",
       "      <td>11228.000000</td>\n",
       "      <td>1.585167e+11</td>\n",
       "      <td>3.519581e+14</td>\n",
       "      <td>0.00000</td>\n",
       "      <td>1.369324e+12</td>\n",
       "      <td>37.482500</td>\n",
       "      <td>55.659700</td>\n",
       "      <td>532.000000</td>\n",
       "      <td>80.000000</td>\n",
       "      <td>80.000000</td>\n",
       "    </tr>\n",
       "    <tr>\n",
       "      <th>50%</th>\n",
       "      <td>7735.000000</td>\n",
       "      <td>31553.000000</td>\n",
       "      <td>1.585272e+11</td>\n",
       "      <td>3.543141e+14</td>\n",
       "      <td>2.00000</td>\n",
       "      <td>1.369392e+12</td>\n",
       "      <td>37.603400</td>\n",
       "      <td>55.741000</td>\n",
       "      <td>1104.000000</td>\n",
       "      <td>170.000000</td>\n",
       "      <td>170.000000</td>\n",
       "    </tr>\n",
       "    <tr>\n",
       "      <th>75%</th>\n",
       "      <td>7763.000000</td>\n",
       "      <td>47682.000000</td>\n",
       "      <td>1.585343e+11</td>\n",
       "      <td>3.578840e+14</td>\n",
       "      <td>5.00000</td>\n",
       "      <td>1.369457e+12</td>\n",
       "      <td>37.752000</td>\n",
       "      <td>55.812700</td>\n",
       "      <td>1251.000000</td>\n",
       "      <td>270.000000</td>\n",
       "      <td>270.000000</td>\n",
       "    </tr>\n",
       "    <tr>\n",
       "      <th>max</th>\n",
       "      <td>7799.000000</td>\n",
       "      <td>65524.000000</td>\n",
       "      <td>1.586000e+11</td>\n",
       "      <td>9.900029e+14</td>\n",
       "      <td>10.00000</td>\n",
       "      <td>1.369931e+12</td>\n",
       "      <td>39.892300</td>\n",
       "      <td>56.837200</td>\n",
       "      <td>15661.000000</td>\n",
       "      <td>357.500000</td>\n",
       "      <td>360.000000</td>\n",
       "    </tr>\n",
       "  </tbody>\n",
       "</table>\n",
       "</div>"
      ],
      "text/plain": [
       "                 lac            cid        msisdn          imei    event_type  \\\n",
       "count  174123.000000  174123.000000  1.741230e+05  1.625350e+05  174123.00000   \n",
       "mean     6944.234708   30633.213470  1.585294e+11  3.261461e+14       3.04000   \n",
       "std      1237.823115   19227.041422  2.320884e+07  1.944775e+14       3.67011   \n",
       "min      5002.000000      10.000000  1.585000e+11  1.060000e+12       0.00000   \n",
       "25%      5085.000000   11228.000000  1.585167e+11  3.519581e+14       0.00000   \n",
       "50%      7735.000000   31553.000000  1.585272e+11  3.543141e+14       2.00000   \n",
       "75%      7763.000000   47682.000000  1.585343e+11  3.578840e+14       5.00000   \n",
       "max      7799.000000   65524.000000  1.586000e+11  9.900029e+14      10.00000   \n",
       "\n",
       "             tstamp           long            lat       max_dist  \\\n",
       "count  1.741230e+05  174123.000000  174123.000000  174123.000000   \n",
       "mean   1.369389e+12      37.621990      55.726915    1101.721369   \n",
       "std    7.286376e+07       0.406022       0.194476     849.669810   \n",
       "min    1.369253e+12      35.257800      54.373600       1.000000   \n",
       "25%    1.369324e+12      37.482500      55.659700     532.000000   \n",
       "50%    1.369392e+12      37.603400      55.741000    1104.000000   \n",
       "75%    1.369457e+12      37.752000      55.812700    1251.000000   \n",
       "max    1.369931e+12      39.892300      56.837200   15661.000000   \n",
       "\n",
       "         start_angle      end_angle  \n",
       "count  174123.000000  174123.000000  \n",
       "mean      175.011644     171.815622  \n",
       "std       107.985232     106.768539  \n",
       "min         0.000000       0.000000  \n",
       "25%        80.000000      80.000000  \n",
       "50%       170.000000     170.000000  \n",
       "75%       270.000000     270.000000  \n",
       "max       357.500000     360.000000  "
      ]
     },
     "execution_count": 268,
     "metadata": {},
     "output_type": "execute_result"
    }
   ],
   "source": [
    "df.describe()"
   ]
  },
  {
   "cell_type": "code",
   "execution_count": 269,
   "metadata": {},
   "outputs": [
    {
     "data": {
      "text/html": [
       "<div>\n",
       "<style scoped>\n",
       "    .dataframe tbody tr th:only-of-type {\n",
       "        vertical-align: middle;\n",
       "    }\n",
       "\n",
       "    .dataframe tbody tr th {\n",
       "        vertical-align: top;\n",
       "    }\n",
       "\n",
       "    .dataframe thead th {\n",
       "        text-align: right;\n",
       "    }\n",
       "</style>\n",
       "<table border=\"1\" class=\"dataframe\">\n",
       "  <thead>\n",
       "    <tr style=\"text-align: right;\">\n",
       "      <th></th>\n",
       "      <th>lac</th>\n",
       "      <th>cid</th>\n",
       "      <th>msisdn</th>\n",
       "      <th>imei</th>\n",
       "      <th>event_type</th>\n",
       "      <th>tstamp</th>\n",
       "      <th>long</th>\n",
       "      <th>lat</th>\n",
       "      <th>max_dist</th>\n",
       "      <th>cell_type</th>\n",
       "      <th>start_angle</th>\n",
       "      <th>end_angle</th>\n",
       "    </tr>\n",
       "  </thead>\n",
       "  <tbody>\n",
       "    <tr>\n",
       "      <th>0</th>\n",
       "      <td>5029</td>\n",
       "      <td>40798</td>\n",
       "      <td>158529599791</td>\n",
       "      <td>3.531111e+14</td>\n",
       "      <td>0</td>\n",
       "      <td>1369252800974</td>\n",
       "      <td>37.9305</td>\n",
       "      <td>55.7815</td>\n",
       "      <td>2101</td>\n",
       "      <td>OUTDOOR</td>\n",
       "      <td>220.0</td>\n",
       "      <td>280.0</td>\n",
       "    </tr>\n",
       "    <tr>\n",
       "      <th>1</th>\n",
       "      <td>7782</td>\n",
       "      <td>56870</td>\n",
       "      <td>158520145943</td>\n",
       "      <td>1.292900e+13</td>\n",
       "      <td>5</td>\n",
       "      <td>1369252801396</td>\n",
       "      <td>37.4239</td>\n",
       "      <td>55.7426</td>\n",
       "      <td>2</td>\n",
       "      <td>OUTDOOR</td>\n",
       "      <td>45.0</td>\n",
       "      <td>105.0</td>\n",
       "    </tr>\n",
       "  </tbody>\n",
       "</table>\n",
       "</div>"
      ],
      "text/plain": [
       "    lac    cid        msisdn          imei  event_type         tstamp  \\\n",
       "0  5029  40798  158529599791  3.531111e+14           0  1369252800974   \n",
       "1  7782  56870  158520145943  1.292900e+13           5  1369252801396   \n",
       "\n",
       "      long      lat  max_dist cell_type  start_angle  end_angle  \n",
       "0  37.9305  55.7815      2101   OUTDOOR        220.0      280.0  \n",
       "1  37.4239  55.7426         2   OUTDOOR         45.0      105.0  "
      ]
     },
     "execution_count": 269,
     "metadata": {},
     "output_type": "execute_result"
    }
   ],
   "source": [
    "df.head(2)"
   ]
  },
  {
   "cell_type": "markdown",
   "metadata": {},
   "source": [
    "*OFFTOP*: __Телефонный номер при деление на 2, по всей видимости дает код МегаФон (925, 926)\n",
    "плюс как выяснилось это Москва и Московская область__"
   ]
  },
  {
   "cell_type": "code",
   "execution_count": 270,
   "metadata": {},
   "outputs": [
    {
     "data": {
      "text/html": [
       "<div>\n",
       "<style scoped>\n",
       "    .dataframe tbody tr th:only-of-type {\n",
       "        vertical-align: middle;\n",
       "    }\n",
       "\n",
       "    .dataframe tbody tr th {\n",
       "        vertical-align: top;\n",
       "    }\n",
       "\n",
       "    .dataframe thead th {\n",
       "        text-align: right;\n",
       "    }\n",
       "</style>\n",
       "<table border=\"1\" class=\"dataframe\">\n",
       "  <thead>\n",
       "    <tr style=\"text-align: right;\">\n",
       "      <th></th>\n",
       "      <th>msisdn</th>\n",
       "    </tr>\n",
       "  </thead>\n",
       "  <tbody>\n",
       "    <tr>\n",
       "      <th>3</th>\n",
       "      <td>7.926892e+10</td>\n",
       "    </tr>\n",
       "    <tr>\n",
       "      <th>4</th>\n",
       "      <td>7.925510e+10</td>\n",
       "    </tr>\n",
       "  </tbody>\n",
       "</table>\n",
       "</div>"
      ],
      "text/plain": [
       "         msisdn\n",
       "3  7.926892e+10\n",
       "4  7.925510e+10"
      ]
     },
     "execution_count": 270,
     "metadata": {},
     "output_type": "execute_result"
    }
   ],
   "source": [
    "(df[['msisdn']] / 2).iloc[3:5,:]"
   ]
  },
  {
   "cell_type": "markdown",
   "metadata": {},
   "source": [
    "__7 926 891 52 86__\n",
    "\n",
    "__7 925 510 20 19__"
   ]
  },
  {
   "attachments": {
    "image.png": {
     "image/png": "[encoded data removed]"
    }
   },
   "cell_type": "markdown",
   "metadata": {},
   "source": [
    "![image.png](attachment:image.png)"
   ]
  },
  {
   "cell_type": "code",
   "execution_count": 271,
   "metadata": {},
   "outputs": [],
   "source": [
    "df['tstamp']=df['tstamp'].astype('datetime64[ms]')"
   ]
  },
  {
   "cell_type": "code",
   "execution_count": 272,
   "metadata": {},
   "outputs": [
    {
     "data": {
      "text/html": [
       "<div>\n",
       "<style scoped>\n",
       "    .dataframe tbody tr th:only-of-type {\n",
       "        vertical-align: middle;\n",
       "    }\n",
       "\n",
       "    .dataframe tbody tr th {\n",
       "        vertical-align: top;\n",
       "    }\n",
       "\n",
       "    .dataframe thead th {\n",
       "        text-align: right;\n",
       "    }\n",
       "</style>\n",
       "<table border=\"1\" class=\"dataframe\">\n",
       "  <thead>\n",
       "    <tr style=\"text-align: right;\">\n",
       "      <th></th>\n",
       "      <th>lac</th>\n",
       "      <th>cid</th>\n",
       "      <th>msisdn</th>\n",
       "      <th>imei</th>\n",
       "      <th>event_type</th>\n",
       "      <th>tstamp</th>\n",
       "      <th>long</th>\n",
       "      <th>lat</th>\n",
       "      <th>max_dist</th>\n",
       "      <th>cell_type</th>\n",
       "      <th>start_angle</th>\n",
       "      <th>end_angle</th>\n",
       "    </tr>\n",
       "  </thead>\n",
       "  <tbody>\n",
       "    <tr>\n",
       "      <th>0</th>\n",
       "      <td>5029</td>\n",
       "      <td>40798</td>\n",
       "      <td>158529599791</td>\n",
       "      <td>3.531111e+14</td>\n",
       "      <td>0</td>\n",
       "      <td>2013-05-22 20:00:00.974</td>\n",
       "      <td>37.9305</td>\n",
       "      <td>55.7815</td>\n",
       "      <td>2101</td>\n",
       "      <td>OUTDOOR</td>\n",
       "      <td>220.0</td>\n",
       "      <td>280.0</td>\n",
       "    </tr>\n",
       "    <tr>\n",
       "      <th>1</th>\n",
       "      <td>7782</td>\n",
       "      <td>56870</td>\n",
       "      <td>158520145943</td>\n",
       "      <td>1.292900e+13</td>\n",
       "      <td>5</td>\n",
       "      <td>2013-05-22 20:00:01.396</td>\n",
       "      <td>37.4239</td>\n",
       "      <td>55.7426</td>\n",
       "      <td>2</td>\n",
       "      <td>OUTDOOR</td>\n",
       "      <td>45.0</td>\n",
       "      <td>105.0</td>\n",
       "    </tr>\n",
       "  </tbody>\n",
       "</table>\n",
       "</div>"
      ],
      "text/plain": [
       "    lac    cid        msisdn          imei  event_type  \\\n",
       "0  5029  40798  158529599791  3.531111e+14           0   \n",
       "1  7782  56870  158520145943  1.292900e+13           5   \n",
       "\n",
       "                   tstamp     long      lat  max_dist cell_type  start_angle  \\\n",
       "0 2013-05-22 20:00:00.974  37.9305  55.7815      2101   OUTDOOR        220.0   \n",
       "1 2013-05-22 20:00:01.396  37.4239  55.7426         2   OUTDOOR         45.0   \n",
       "\n",
       "   end_angle  \n",
       "0      280.0  \n",
       "1      105.0  "
      ]
     },
     "execution_count": 272,
     "metadata": {},
     "output_type": "execute_result"
    }
   ],
   "source": [
    "df.head(2)"
   ]
  },
  {
   "cell_type": "markdown",
   "metadata": {},
   "source": [
    "### Facts.xlsx obsing"
   ]
  },
  {
   "cell_type": "code",
   "execution_count": 273,
   "metadata": {},
   "outputs": [],
   "source": [
    "facts = pd.read_excel('facts.xlsx',header=None)\n",
    "facts.columns=['first','second']"
   ]
  },
  {
   "cell_type": "code",
   "execution_count": 274,
   "metadata": {},
   "outputs": [
    {
     "data": {
      "text/html": [
       "<div>\n",
       "<style scoped>\n",
       "    .dataframe tbody tr th:only-of-type {\n",
       "        vertical-align: middle;\n",
       "    }\n",
       "\n",
       "    .dataframe tbody tr th {\n",
       "        vertical-align: top;\n",
       "    }\n",
       "\n",
       "    .dataframe thead th {\n",
       "        text-align: right;\n",
       "    }\n",
       "</style>\n",
       "<table border=\"1\" class=\"dataframe\">\n",
       "  <thead>\n",
       "    <tr style=\"text-align: right;\">\n",
       "      <th></th>\n",
       "      <th>first</th>\n",
       "      <th>second</th>\n",
       "    </tr>\n",
       "  </thead>\n",
       "  <tbody>\n",
       "    <tr>\n",
       "      <th>0</th>\n",
       "      <td>158530067653</td>\n",
       "      <td>158528861653</td>\n",
       "    </tr>\n",
       "    <tr>\n",
       "      <th>1</th>\n",
       "      <td>158510912201</td>\n",
       "      <td>158528852857</td>\n",
       "    </tr>\n",
       "  </tbody>\n",
       "</table>\n",
       "</div>"
      ],
      "text/plain": [
       "          first        second\n",
       "0  158530067653  158528861653\n",
       "1  158510912201  158528852857"
      ]
     },
     "execution_count": 274,
     "metadata": {},
     "output_type": "execute_result"
    }
   ],
   "source": [
    "facts.head(2)"
   ]
  },
  {
   "cell_type": "markdown",
   "metadata": {},
   "source": [
    "__Добавим в датафрэйм facts колонку с imei кодами закрепленным за номерами телефонов__"
   ]
  },
  {
   "cell_type": "code",
   "execution_count": 275,
   "metadata": {},
   "outputs": [],
   "source": [
    "new_list=[]\n",
    "for i in facts.values:\n",
    "    buff_list=[]\n",
    "    new_imei=df[df.msisdn==i[0]].imei.unique()\n",
    "    new_imei = np.append(new_imei, df[df.msisdn==i[1]].imei.unique())\n",
    "    for item in new_imei:\n",
    "        if not np.isnan(item):\n",
    "            buff_list.append(item)\n",
    "    new_list.append(buff_list)\n",
    "facts['imei'] = new_list"
   ]
  },
  {
   "cell_type": "markdown",
   "metadata": {},
   "source": [
    "__Посмотрим, имеются ли пересечения между imei, у разных персон__"
   ]
  },
  {
   "cell_type": "code",
   "execution_count": 276,
   "metadata": {
    "scrolled": true
   },
   "outputs": [
    {
     "name": "stdout",
     "output_type": "stream",
     "text": [
      "16th person 13002009002790.0 gots duplicate | duplicate is: 17th person\n",
      "29th person 352012080850010.0 gots duplicate | duplicate is: 49th person\n"
     ]
    }
   ],
   "source": [
    "# так как данных мало, можно все перебрать итеративно, без pandas\n",
    "\n",
    "all_imeis = facts.imei.values.tolist()\n",
    "for index, imei_list in enumerate(all_imeis):\n",
    "    for imei in imei_list:\n",
    "        try:\n",
    "            imei_bag = list(itertools.chain.from_iterable(all_imeis[index+1:]))\n",
    "            if imei in imei_bag:\n",
    "                print(f'{index}th person {imei} gots duplicate', end= ' | ')\n",
    "                for i in imei_bag:\n",
    "                    if imei_bag.index(imei) == 0:\n",
    "                        print(f'duplicate is: {index + 1}th person')\n",
    "                        break\n",
    "                    else:\n",
    "                        print(f'duplicate is: {imei_bag.index(imei)//2 + index}th person')\n",
    "                        break\n",
    "        except:\n",
    "            print('list ends')"
   ]
  },
  {
   "cell_type": "markdown",
   "metadata": {},
   "source": [
    "__Получается, что среди размеченных данных из файла Facts, имеются разные персоны, один из их телефонов которых имеют общий imei. Опираясь на определение imei и уточнение со стороны постановщика задачи делаем вывод, что это все таки один человек, одна персона. Объеденим их.__"
   ]
  },
  {
   "cell_type": "code",
   "execution_count": 277,
   "metadata": {},
   "outputs": [],
   "source": [
    "facts.loc['16'] = [158528850493,[158524011021, 158530004641],[13002009002790.0, 13332008243810.0]]\n",
    "facts.loc['29'] = [[158515886411, 158508828513],[158515729817, 158508828521],[352012080850010.0, 354770046945210.0, 864653011005500.0]]\n"
   ]
  },
  {
   "cell_type": "code",
   "execution_count": 278,
   "metadata": {},
   "outputs": [],
   "source": [
    "facts.drop([16,17,29,49],inplace=True)\n",
    "facts.index = list(range(120))\n",
    "phone_nums = list(facts[['first','second']].values[:-2])"
   ]
  },
  {
   "cell_type": "code",
   "execution_count": 279,
   "metadata": {},
   "outputs": [],
   "source": [
    "phone_nums.append(facts[['first','second']].values[-2:][0][1] + [facts[['first','second']].values[-2:][0][0]])\n",
    "phone_nums.append(facts[['first','second']].values[-2:][1][1] + facts[['first','second']].values[-2:][1][0])"
   ]
  },
  {
   "cell_type": "code",
   "execution_count": 280,
   "metadata": {},
   "outputs": [],
   "source": [
    "facts['phone_nums'] = phone_nums\n",
    "facts.drop(['first', 'second'], axis = 1, inplace=True)\n",
    "all_imeis = facts.imei.values.tolist()\n",
    "for index, i in enumerate(all_imeis):\n",
    "    if len(set(i)) < len(i):\n",
    "        facts.drop([index],inplace=True)\n",
    "        facts.loc[str(index)] =  [list(set(i)),phone_nums[index]]\n",
    "        facts.index = list(range(len(phone_nums)))\n",
    "all_imeis = facts.imei.values.tolist()"
   ]
  },
  {
   "cell_type": "code",
   "execution_count": 281,
   "metadata": {},
   "outputs": [],
   "source": [
    "imei_dict = {}\n",
    "for index, value in enumerate(all_imeis):\n",
    "    try:\n",
    "        for imei in value:\n",
    "            imei_dict[imei]=index\n",
    "    except:\n",
    "        print(imei)"
   ]
  },
  {
   "cell_type": "code",
   "execution_count": 282,
   "metadata": {},
   "outputs": [],
   "source": [
    "df['target'] = df.target.apply(lambda row: int(imei_dict[row]) if row in imei_dict.keys() else None)"
   ]
  },
  {
   "cell_type": "code",
   "execution_count": 283,
   "metadata": {},
   "outputs": [
    {
     "data": {
      "text/plain": [
       "array([[<matplotlib.axes._subplots.AxesSubplot object at 0x7ff9e8c44898>,\n",
       "        <matplotlib.axes._subplots.AxesSubplot object at 0x7ff9ee9e1d68>]],\n",
       "      dtype=object)"
      ]
     },
     "execution_count": 283,
     "metadata": {},
     "output_type": "execute_result"
    },
    {
     "data": {
      "image/png": "[encoded data removed]",
      "text/plain": [
       "<Figure size 1080x360 with 2 Axes>"
      ]
     },
     "metadata": {
      "needs_background": "light"
     },
     "output_type": "display_data"
    }
   ],
   "source": [
    "df[['msisdn', 'target']].hist(bins = 100, figsize = (15,5))"
   ]
  },
  {
   "cell_type": "markdown",
   "metadata": {},
   "source": [
    "__Чекнем есть ли неразмеченные строки в df и подберем их__"
   ]
  },
  {
   "cell_type": "code",
   "execution_count": 284,
   "metadata": {},
   "outputs": [],
   "source": [
    "uniq_numbers_df=df.msisdn.unique()\n",
    "new_dict={}\n",
    "for i in uniq_numbers_df:\n",
    "    if len(df[df.msisdn==i].target.unique())>1 and np.isnan(df[df.msisdn==i].target.unique().sum()):\n",
    "        foo = [x for x in df[df.msisdn==i].target.unique() if str(x)!='nan']\n",
    "        new_dict[i]=foo[0]"
   ]
  },
  {
   "cell_type": "code",
   "execution_count": 285,
   "metadata": {},
   "outputs": [],
   "source": [
    "for i in new_dict.keys():\n",
    "    df['target'] = df.apply(lambda row: target_setter(row, i), axis=1)"
   ]
  },
  {
   "cell_type": "markdown",
   "metadata": {},
   "source": [
    "__8222 размеченных строк из 174к__"
   ]
  },
  {
   "cell_type": "code",
   "execution_count": 286,
   "metadata": {},
   "outputs": [
    {
     "data": {
      "text/plain": [
       "8222"
      ]
     },
     "execution_count": 286,
     "metadata": {},
     "output_type": "execute_result"
    }
   ],
   "source": [
    "df.target.dropna().shape[0]"
   ]
  },
  {
   "cell_type": "markdown",
   "metadata": {},
   "source": [
    "__Расширим пулл координат, в связи с тем, что часто базовые станции, установлены в одно место , но просто смотрят в разные стороны.__"
   ]
  },
  {
   "cell_type": "code",
   "execution_count": 287,
   "metadata": {},
   "outputs": [
    {
     "data": {
      "text/html": [
       "<div>\n",
       "<style scoped>\n",
       "    .dataframe tbody tr th:only-of-type {\n",
       "        vertical-align: middle;\n",
       "    }\n",
       "\n",
       "    .dataframe tbody tr th {\n",
       "        vertical-align: top;\n",
       "    }\n",
       "\n",
       "    .dataframe thead th {\n",
       "        text-align: right;\n",
       "    }\n",
       "</style>\n",
       "<table border=\"1\" class=\"dataframe\">\n",
       "  <thead>\n",
       "    <tr style=\"text-align: right;\">\n",
       "      <th></th>\n",
       "      <th>lac</th>\n",
       "      <th>cid</th>\n",
       "      <th>msisdn</th>\n",
       "      <th>imei</th>\n",
       "      <th>event_type</th>\n",
       "      <th>tstamp</th>\n",
       "      <th>long</th>\n",
       "      <th>lat</th>\n",
       "      <th>max_dist</th>\n",
       "      <th>cell_type</th>\n",
       "      <th>start_angle</th>\n",
       "      <th>end_angle</th>\n",
       "      <th>target</th>\n",
       "    </tr>\n",
       "  </thead>\n",
       "  <tbody>\n",
       "    <tr>\n",
       "      <th>0</th>\n",
       "      <td>5029</td>\n",
       "      <td>40798</td>\n",
       "      <td>158529599791</td>\n",
       "      <td>3.531111e+14</td>\n",
       "      <td>0</td>\n",
       "      <td>2013-05-22 20:00:00.974</td>\n",
       "      <td>37.9305</td>\n",
       "      <td>55.7815</td>\n",
       "      <td>2101</td>\n",
       "      <td>OUTDOOR</td>\n",
       "      <td>220.0</td>\n",
       "      <td>280.0</td>\n",
       "      <td>NaN</td>\n",
       "    </tr>\n",
       "    <tr>\n",
       "      <th>1</th>\n",
       "      <td>7782</td>\n",
       "      <td>56870</td>\n",
       "      <td>158520145943</td>\n",
       "      <td>1.292900e+13</td>\n",
       "      <td>5</td>\n",
       "      <td>2013-05-22 20:00:01.396</td>\n",
       "      <td>37.4239</td>\n",
       "      <td>55.7426</td>\n",
       "      <td>2</td>\n",
       "      <td>OUTDOOR</td>\n",
       "      <td>45.0</td>\n",
       "      <td>105.0</td>\n",
       "      <td>NaN</td>\n",
       "    </tr>\n",
       "    <tr>\n",
       "      <th>2</th>\n",
       "      <td>7794</td>\n",
       "      <td>32226</td>\n",
       "      <td>158521798391</td>\n",
       "      <td>3.519940e+14</td>\n",
       "      <td>5</td>\n",
       "      <td>2013-05-22 20:00:02.013</td>\n",
       "      <td>37.7034</td>\n",
       "      <td>55.5803</td>\n",
       "      <td>1125</td>\n",
       "      <td>OUTDOOR</td>\n",
       "      <td>0.0</td>\n",
       "      <td>60.0</td>\n",
       "      <td>NaN</td>\n",
       "    </tr>\n",
       "    <tr>\n",
       "      <th>3</th>\n",
       "      <td>7758</td>\n",
       "      <td>33528</td>\n",
       "      <td>158537830573</td>\n",
       "      <td>3.586270e+14</td>\n",
       "      <td>0</td>\n",
       "      <td>2013-05-22 20:00:02.331</td>\n",
       "      <td>37.7895</td>\n",
       "      <td>55.7042</td>\n",
       "      <td>1158</td>\n",
       "      <td>OUTDOOR</td>\n",
       "      <td>210.0</td>\n",
       "      <td>270.0</td>\n",
       "      <td>NaN</td>\n",
       "    </tr>\n",
       "    <tr>\n",
       "      <th>4</th>\n",
       "      <td>5060</td>\n",
       "      <td>17568</td>\n",
       "      <td>158510204039</td>\n",
       "      <td>3.524581e+14</td>\n",
       "      <td>8</td>\n",
       "      <td>2013-05-22 20:00:03.586</td>\n",
       "      <td>37.1900</td>\n",
       "      <td>55.8308</td>\n",
       "      <td>500</td>\n",
       "      <td>OUTDOOR</td>\n",
       "      <td>180.0</td>\n",
       "      <td>240.0</td>\n",
       "      <td>NaN</td>\n",
       "    </tr>\n",
       "  </tbody>\n",
       "</table>\n",
       "</div>"
      ],
      "text/plain": [
       "    lac    cid        msisdn          imei  event_type  \\\n",
       "0  5029  40798  158529599791  3.531111e+14           0   \n",
       "1  7782  56870  158520145943  1.292900e+13           5   \n",
       "2  7794  32226  158521798391  3.519940e+14           5   \n",
       "3  7758  33528  158537830573  3.586270e+14           0   \n",
       "4  5060  17568  158510204039  3.524581e+14           8   \n",
       "\n",
       "                   tstamp     long      lat  max_dist cell_type  start_angle  \\\n",
       "0 2013-05-22 20:00:00.974  37.9305  55.7815      2101   OUTDOOR        220.0   \n",
       "1 2013-05-22 20:00:01.396  37.4239  55.7426         2   OUTDOOR         45.0   \n",
       "2 2013-05-22 20:00:02.013  37.7034  55.5803      1125   OUTDOOR          0.0   \n",
       "3 2013-05-22 20:00:02.331  37.7895  55.7042      1158   OUTDOOR        210.0   \n",
       "4 2013-05-22 20:00:03.586  37.1900  55.8308       500   OUTDOOR        180.0   \n",
       "\n",
       "   end_angle  target  \n",
       "0      280.0     NaN  \n",
       "1      105.0     NaN  \n",
       "2       60.0     NaN  \n",
       "3      270.0     NaN  \n",
       "4      240.0     NaN  "
      ]
     },
     "execution_count": 287,
     "metadata": {},
     "output_type": "execute_result"
    }
   ],
   "source": [
    "df.head()"
   ]
  },
  {
   "cell_type": "code",
   "execution_count": 288,
   "metadata": {},
   "outputs": [],
   "source": [
    "df['long'] = df.apply(lambda row: new_coords(row, 'long'), axis = 1)\n",
    "df['lat'] = df.apply(lambda row: new_coords(row, 'lat'), axis = 1)"
   ]
  },
  {
   "cell_type": "markdown",
   "metadata": {},
   "source": [
    "__Координаты мы расширили используя градус обзора и максимальное расстояние обзора станции. Сместив каждую точку координат в середину сектора обзора.__"
   ]
  },
  {
   "attachments": {
    "image.png": {
     "image/png": "[encoded data removed]"
    }
   },
   "cell_type": "markdown",
   "metadata": {},
   "source": [
    "![image.png](attachment:image.png)"
   ]
  },
  {
   "cell_type": "markdown",
   "metadata": {},
   "source": [
    "### Попытаемся вывести меру сходства между векторами координат номеров одной персоны"
   ]
  },
  {
   "cell_type": "markdown",
   "metadata": {},
   "source": [
    "*(опустим часть с подбором метрики сходства)*"
   ]
  },
  {
   "cell_type": "code",
   "execution_count": 289,
   "metadata": {
    "scrolled": true
   },
   "outputs": [
    {
     "name": "stdout",
     "output_type": "stream",
     "text": [
      "person 2\n",
      "jaccard distance 0.8709677419354839\n",
      "\n",
      "person 3\n",
      "jaccard distance 0.9333333333333333\n",
      "\n",
      "person 4\n",
      "jaccard distance 0.7906976744186046\n",
      "\n",
      "person 5\n",
      "jaccard distance 0.7608695652173914\n",
      "\n",
      "person 6\n",
      "jaccard distance 0.8461538461538461\n",
      "\n",
      "person 7\n",
      "jaccard distance 1.0\n",
      "\n",
      "person 8\n",
      "jaccard distance 0.8983050847457628\n",
      "\n",
      "person 9\n",
      "jaccard distance 0.9523809523809523\n",
      "\n",
      "person 10\n",
      "jaccard distance 0.9344262295081968\n",
      "\n",
      "person 11\n",
      "jaccard distance 0.9565217391304348\n",
      "\n",
      "person 12\n",
      "jaccard distance 0.8043478260869565\n",
      "\n",
      "person 13\n",
      "jaccard distance 0.8913043478260869\n",
      "\n",
      "person 14\n",
      "jaccard distance 0.8666666666666667\n",
      "\n",
      "person 15\n",
      "jaccard distance 0.5454545454545454\n",
      "\n",
      "person 16\n",
      "jaccard distance 0.8717948717948718\n",
      "\n",
      "person 17\n",
      "jaccard distance 0.9574468085106383\n",
      "\n",
      "person 18\n",
      "jaccard distance 0.7857142857142857\n",
      "\n",
      "person 19\n",
      "jaccard distance 0.9074074074074074\n",
      "\n",
      "person 20\n",
      "jaccard distance 0.8378378378378378\n",
      "\n",
      "person 21\n",
      "jaccard distance 1.0\n",
      "\n",
      "person 22\n",
      "jaccard distance 1.0\n",
      "\n",
      "person 23\n",
      "jaccard distance 0.6666666666666666\n",
      "\n",
      "person 24\n",
      "jaccard distance 0.9375\n",
      "\n",
      "person 25\n",
      "jaccard distance 0.7857142857142857\n",
      "\n",
      "person 26\n",
      "jaccard distance 1.0\n",
      "\n",
      "person 27\n",
      "jaccard distance 0.8095238095238095\n",
      "\n",
      "person 28\n",
      "jaccard distance 1.0\n",
      "\n",
      "person 29\n",
      "jaccard distance 1.0\n",
      "\n",
      "person 30\n",
      "jaccard distance 0.75\n",
      "\n",
      "person 31\n",
      "jaccard distance 0.8461538461538461\n",
      "\n",
      "person 32\n",
      "jaccard distance 0.6363636363636364\n",
      "\n",
      "person 33\n",
      "jaccard distance 1.0\n",
      "\n",
      "person 34\n",
      "jaccard distance 0.8\n",
      "\n",
      "person 35\n",
      "jaccard distance 0.85\n",
      "\n",
      "person 36\n",
      "jaccard distance 0.8888888888888888\n",
      "\n",
      "person 37\n",
      "jaccard distance 1.0\n",
      "\n",
      "person 38\n",
      "jaccard distance 1.0\n",
      "\n",
      "person 39\n",
      "jaccard distance 0.35714285714285715\n",
      "\n",
      "person 40\n",
      "jaccard distance 0.7142857142857143\n",
      "\n",
      "person 41\n",
      "jaccard distance 0.6\n",
      "\n",
      "person 42\n",
      "jaccard distance 0.6666666666666666\n",
      "\n",
      "person 43\n",
      "jaccard distance 0.6666666666666666\n",
      "\n",
      "person 44\n",
      "jaccard distance 0.8333333333333334\n",
      "\n",
      "person 45\n",
      "jaccard distance 0.9090909090909091\n",
      "\n",
      "person 46\n",
      "jaccard distance 1.0\n",
      "\n",
      "person 47\n",
      "jaccard distance 1.0\n",
      "\n",
      "person 48\n",
      "jaccard distance 0.9318181818181818\n",
      "\n",
      "person 49\n",
      "jaccard distance 1.0\n",
      "\n",
      "person 50\n",
      "jaccard distance 0.8\n",
      "\n",
      "person 51\n",
      "jaccard distance 1.0\n",
      "\n",
      "person 52\n",
      "jaccard distance 1.0\n",
      "\n",
      "person 53\n",
      "jaccard distance 0.9117647058823529\n",
      "\n",
      "person 54\n",
      "jaccard distance 0.6666666666666666\n",
      "\n",
      "person 55\n",
      "jaccard distance 1.0\n",
      "\n",
      "person 56\n",
      "jaccard distance 1.0\n",
      "\n",
      "person 57\n",
      "jaccard distance 0.6363636363636364\n",
      "\n",
      "person 58\n",
      "jaccard distance 0.896551724137931\n",
      "\n",
      "person 59\n",
      "jaccard distance 1.0\n",
      "\n",
      "person 60\n",
      "jaccard distance 1.0\n",
      "\n",
      "person 61\n",
      "jaccard distance 0.8\n",
      "\n",
      "person 62\n",
      "jaccard distance 0.9473684210526315\n",
      "\n",
      "person 63\n",
      "jaccard distance 0.5\n",
      "\n",
      "person 64\n",
      "jaccard distance 0.6363636363636364\n",
      "\n",
      "person 65\n",
      "jaccard distance 0.4\n",
      "\n",
      "person 66\n",
      "jaccard distance 0.85\n",
      "\n",
      "person 67\n",
      "jaccard distance 0.7777777777777778\n",
      "\n",
      "person 68\n",
      "jaccard distance 0.8333333333333334\n",
      "\n",
      "person 69\n",
      "jaccard distance 0.8666666666666667\n",
      "\n",
      "person 70\n",
      "jaccard distance 0.5\n",
      "\n",
      "person 71\n",
      "jaccard distance 0.96\n",
      "\n",
      "person 72\n",
      "jaccard distance 1.0\n",
      "\n",
      "person 73\n",
      "jaccard distance 0.9090909090909091\n",
      "\n",
      "person 74\n",
      "jaccard distance 0.9090909090909091\n",
      "\n",
      "person 75\n",
      "jaccard distance 0.9428571428571428\n",
      "\n",
      "person 76\n",
      "jaccard distance 0.75\n",
      "\n",
      "person 77\n",
      "jaccard distance 0.9444444444444444\n",
      "\n",
      "person 78\n",
      "jaccard distance 1.0\n",
      "\n",
      "person 79\n",
      "jaccard distance 1.0\n",
      "\n",
      "person 80\n",
      "jaccard distance 0.8571428571428571\n",
      "\n",
      "person 81\n",
      "jaccard distance 1.0\n",
      "\n",
      "person 82\n",
      "jaccard distance 0.8571428571428571\n",
      "\n",
      "person 83\n",
      "jaccard distance 0.95\n",
      "\n",
      "person 84\n",
      "jaccard distance 0.5\n",
      "\n",
      "person 85\n",
      "jaccard distance 0.5714285714285714\n",
      "\n",
      "person 86\n",
      "jaccard distance 0.88\n",
      "\n",
      "person 87\n",
      "jaccard distance 0.8571428571428571\n",
      "\n",
      "person 88\n",
      "jaccard distance 0.8823529411764706\n",
      "\n",
      "person 89\n",
      "jaccard distance 0.9090909090909091\n",
      "\n",
      "person 90\n",
      "jaccard distance 0.9354838709677419\n",
      "\n",
      "person 91\n",
      "jaccard distance 1.0\n",
      "\n",
      "person 92\n",
      "jaccard distance 0.7407407407407407\n",
      "\n",
      "person 93\n",
      "jaccard distance 0.5\n",
      "\n",
      "person 94\n",
      "jaccard distance 0.7333333333333333\n",
      "\n",
      "person 95\n",
      "jaccard distance 1.0\n",
      "\n",
      "person 96\n",
      "jaccard distance 1.0\n",
      "\n",
      "person 97\n",
      "jaccard distance 0.8\n",
      "\n",
      "person 98\n",
      "jaccard distance 0.5\n",
      "\n",
      "person 99\n",
      "jaccard distance 1.0\n",
      "\n",
      "person 100\n",
      "jaccard distance 0.9230769230769231\n",
      "\n",
      "person 101\n",
      "jaccard distance 0.8666666666666667\n",
      "\n",
      "person 102\n",
      "jaccard distance 1.0\n",
      "\n",
      "person 103\n",
      "jaccard distance 0.46153846153846156\n",
      "\n",
      "person 104\n",
      "jaccard distance 0.8888888888888888\n",
      "\n",
      "person 105\n",
      "jaccard distance 0.6666666666666666\n",
      "\n",
      "person 106\n",
      "jaccard distance 0.98\n",
      "\n",
      "person 107\n",
      "jaccard distance 0.9565217391304348\n",
      "\n",
      "person 108\n",
      "jaccard distance 1.0\n",
      "\n",
      "person 109\n",
      "jaccard distance 0.8\n",
      "\n",
      "person 110\n",
      "jaccard distance 1.0\n",
      "\n",
      "person 111\n",
      "jaccard distance 1.0\n",
      "\n",
      "person 112\n",
      "jaccard distance 1.0\n",
      "\n",
      "person 113\n",
      "jaccard distance 0.5\n",
      "\n",
      "person 114\n",
      "jaccard distance 0.9090909090909091\n",
      "\n",
      "person 115\n",
      "jaccard distance 0.8148148148148148\n",
      "\n",
      "person 116\n",
      "jaccard distance 0.9444444444444444\n",
      "\n",
      "person 117\n",
      "jaccard distance 1.0\n",
      "\n",
      "person 118\n",
      "jaccard distance 1.0\n",
      "\n",
      "person 119\n",
      "jaccard distance 0.4\n",
      "\n"
     ]
    }
   ],
   "source": [
    "supervised_df = df.dropna()\n",
    "score=[]\n",
    "for i in range(2, 120):\n",
    "    uniq_numbers = facts.phone_nums[i]\n",
    "    if len(uniq_numbers) == 2:\n",
    "        buff_list_one = supervised_df[supervised_df.msisdn==uniq_numbers[0]][['lat','long']].values.tolist()\n",
    "        buff_list_two = supervised_df[supervised_df.msisdn==uniq_numbers[1]][['lat','long']].values.tolist()\n",
    "        buff_list_one = np.append(buff_list_one[0], buff_list_one[1:])\n",
    "        buff_list_two = np.append(buff_list_two[0], buff_list_two[1:])\n",
    "        print(f'person {i}')\n",
    "        #print(f'cosine similarity {cosine_similarity(buff_list_one.reshape(-1,1), buff_list_two.reshape(-1,1)).mean()}')\n",
    "        print(f'jaccard distance {jaccard_distance(set(buff_list_one), set(buff_list_two))}')\n",
    "        score.append(jaccard_distance(set(buff_list_one), set(buff_list_two)))\n",
    "        print()\n",
    "    elif len(uniq_numbers) > 2:\n",
    "        res=[]\n",
    "        for ind in uniq_numbers:\n",
    "            buff_list = supervised_df[supervised_df.msisdn==ind][['lat','long']].values.tolist()\n",
    "            res.append(np.append(buff_list[0:2], buff_list[2:]))\n",
    "        results=[]\n",
    "        for index, val in enumerate(res):\n",
    "            try:\n",
    "                results.append(jaccard_distance(set(val),set(res[index+1])))\n",
    "            except:\n",
    "                continue\n",
    "        score.append(np.array(results).mean())\n",
    "        print(f'person {i}')\n",
    "        print(f'jaccard distance {np.array(results).mean()}')\n",
    "        print()\n",
    "    elif len(uniq_numbers) < 2:\n",
    "        print('len == 1, pass')\n",
    "        print()"
   ]
  },
  {
   "cell_type": "markdown",
   "metadata": {},
   "source": [
    "__Средний score по 120 персонам. Попробуем применить этот показатель в качестве эвристического параметра для соотношения номеров между собой__"
   ]
  },
  {
   "cell_type": "code",
   "execution_count": 290,
   "metadata": {},
   "outputs": [
    {
     "name": "stdout",
     "output_type": "stream",
     "text": [
      "0.8481809716326385\n"
     ]
    }
   ],
   "source": [
    "epsilon = np.array(score).mean()\n",
    "print(epsilon)"
   ]
  },
  {
   "cell_type": "markdown",
   "metadata": {},
   "source": [
    "### Визуализируем кейс c персоной у которой очень хороший score: 0.25"
   ]
  },
  {
   "cell_type": "markdown",
   "metadata": {},
   "source": [
    "__Как видим получились плотностные точки, наложенные друг на друга__"
   ]
  },
  {
   "cell_type": "code",
   "execution_count": 291,
   "metadata": {},
   "outputs": [
    {
     "data": {
      "image/png": "[encoded data removed]",
      "text/plain": [
       "<Figure size 1440x720 with 1 Axes>"
      ]
     },
     "metadata": {
      "needs_background": "light"
     },
     "output_type": "display_data"
    }
   ],
   "source": [
    "plotter(facts.phone_nums[103][0], facts.phone_nums[103][1])"
   ]
  },
  {
   "cell_type": "markdown",
   "metadata": {},
   "source": [
    "### Визуализируем кейс c персоной у которой очень плохой score: 1"
   ]
  },
  {
   "cell_type": "markdown",
   "metadata": {},
   "source": [
    "__Соответственно обратная ситуация видно, что координаты разбросаны друг от друга, маршруты не совпадают, следовательно подобный подход дает оценку близости расположения координат__"
   ]
  },
  {
   "cell_type": "code",
   "execution_count": 292,
   "metadata": {
    "scrolled": false
   },
   "outputs": [
    {
     "data": {
      "image/png": "[encoded data removed]",
      "text/plain": [
       "<Figure size 1440x720 with 1 Axes>"
      ]
     },
     "metadata": {
      "needs_background": "light"
     },
     "output_type": "display_data"
    }
   ],
   "source": [
    "plotter(facts.phone_nums[96][0], facts.phone_nums[96][1])"
   ]
  },
  {
   "cell_type": "code",
   "execution_count": 293,
   "metadata": {
    "scrolled": true
   },
   "outputs": [],
   "source": [
    "target_nums = df.msisdn.unique().tolist()\n",
    "result = []\n",
    "for index, value in enumerate(target_nums):\n",
    "    coords = df[df.msisdn==value][['long','lat']].values.tolist()\n",
    "    coords = np.append(coords[0], coords[1:])\n",
    "    target = df[df.msisdn==value].target.mean()\n",
    "    result.append([value, list(coords), target])\n",
    "target_df = pd.DataFrame(data=result)\n",
    "target_df.columns = ['number', 'coordinates', 'target']"
   ]
  },
  {
   "cell_type": "code",
   "execution_count": 294,
   "metadata": {},
   "outputs": [
    {
     "data": {
      "text/html": [
       "<div>\n",
       "<style scoped>\n",
       "    .dataframe tbody tr th:only-of-type {\n",
       "        vertical-align: middle;\n",
       "    }\n",
       "\n",
       "    .dataframe tbody tr th {\n",
       "        vertical-align: top;\n",
       "    }\n",
       "\n",
       "    .dataframe thead th {\n",
       "        text-align: right;\n",
       "    }\n",
       "</style>\n",
       "<table border=\"1\" class=\"dataframe\">\n",
       "  <thead>\n",
       "    <tr style=\"text-align: right;\">\n",
       "      <th></th>\n",
       "      <th>number</th>\n",
       "      <th>coordinates</th>\n",
       "      <th>target</th>\n",
       "    </tr>\n",
       "  </thead>\n",
       "  <tbody>\n",
       "    <tr>\n",
       "      <th>0</th>\n",
       "      <td>158529599791</td>\n",
       "      <td>[37.610296442532125, 54.78099016407388, 37.695...</td>\n",
       "      <td>NaN</td>\n",
       "    </tr>\n",
       "    <tr>\n",
       "      <th>1</th>\n",
       "      <td>158520145943</td>\n",
       "      <td>[37.4235951893789, 55.741647587019585, 37.5222...</td>\n",
       "      <td>NaN</td>\n",
       "    </tr>\n",
       "  </tbody>\n",
       "</table>\n",
       "</div>"
      ],
      "text/plain": [
       "         number                                        coordinates  target\n",
       "0  158529599791  [37.610296442532125, 54.78099016407388, 37.695...     NaN\n",
       "1  158520145943  [37.4235951893789, 55.741647587019585, 37.5222...     NaN"
      ]
     },
     "execution_count": 294,
     "metadata": {},
     "output_type": "execute_result"
    }
   ],
   "source": [
    "target_df.head(2)"
   ]
  },
  {
   "cell_type": "code",
   "execution_count": 295,
   "metadata": {
    "scrolled": true
   },
   "outputs": [],
   "source": [
    "nums = target_df.number.values.tolist()\n",
    "coords = target_df.coordinates.values.tolist()\n",
    "target = target_df.target.values.tolist()\n",
    "overall={}\n",
    "all_vals=[]\n",
    "for index, value in enumerate(coords):\n",
    "    if np.isnan(target[index]):\n",
    "        for ind, coord in enumerate(coords):\n",
    "            if ind != index:\n",
    "                if jaccard_distance(set(value), set(coord)) <= epsilon:\n",
    "                    key = nums[index]\n",
    "                    if (key not in overall.keys()) and (nums[ind] not in all_vals):\n",
    "                        overall[key]=[nums[ind]]\n",
    "                        all_vals.append(nums[ind])\n",
    "                    elif (key in overall.keys()) and (nums[ind] not in all_vals):\n",
    "                        overall[key].append(nums[ind])\n",
    "                        all_vals.append(nums[ind])\n",
    "                        \n",
    "persons={}\n",
    "all_users=[]\n",
    "\n",
    "x = 0\n",
    "for ind, val in enumerate(overall.keys()):\n",
    "    \n",
    "    if val not in all_users:\n",
    "        \n",
    "        persons[x+120] = [val]\n",
    "        \n",
    "        all_users.append(val)\n",
    "        \n",
    "        items = overall[val]\n",
    "        \n",
    "        for item in items:\n",
    "            if item not in all_users:\n",
    "                all_users.append(item)\n",
    "                persons[x+120].append(item)\n",
    "                \n",
    "                try:\n",
    "                    items_level_2 = overall[item]\n",
    "\n",
    "                    for item_level_2 in items_level_2:\n",
    "                        if item_level_2 not in all_users:\n",
    "                            all_users.append(item_level_2)\n",
    "                            persons[x+120].append(item_level_2)\n",
    "                except:\n",
    "                    continue\n",
    "        x+=1\n",
    "                \n",
    "    "
   ]
  },
  {
   "cell_type": "markdown",
   "metadata": {},
   "source": [
    "__Окей, подобным эвристически-аналитическим методом получены еще 354 персоны. Казалось бы, можно коммитить. Но не стоит забывать, о ряде допущений, проделанных ранее. Во-первых функция сходства, не использовала плотности встречаемости для координат. Во-вторых, при расчете новых персон не проверялось сходство с уже размеченными персонами. Поэтому, имеющееся число персон, предлагается использовать в виде гиперпараметра в кластерном алгоритме__"
   ]
  },
  {
   "cell_type": "code",
   "execution_count": 296,
   "metadata": {
    "scrolled": true
   },
   "outputs": [
    {
     "data": {
      "text/plain": [
       "{120: [158529599791, 158517454219, 158527388351, 158590531433, 158502911917],\n",
       " 121: [158537830573,\n",
       "  158514619431,\n",
       "  158528740457,\n",
       "  158503584375,\n",
       "  158501159927,\n",
       "  158500129117],\n",
       " 122: [158528444553, 158537657865, 158501037171],\n",
       " 123: [158535715927, 158521231333, 158503852881],\n",
       " 124: [158506271533, 158590304535],\n",
       " 125: [158514123183, 158503892947, 158507300273, 158531733527],\n",
       " 126: [158526599127, 158538483063],\n",
       " 127: [158525274517, 158529920637],\n",
       " 128: [158590440585, 158514456769],\n",
       " 129: [158506878509, 158504045501],\n",
       " 130: [158501294025, 158529434869],\n",
       " 131: [158598151595, 158514862259, 158503888689, 158537689453, 158532416745],\n",
       " 132: [158505599515, 158508364921],\n",
       " 133: [158529476475, 158501500255],\n",
       " 134: [158530000013, 158527544949],\n",
       " 135: [158598656609, 158517520405],\n",
       " 136: [158522914813, 158503174509, 158509346439],\n",
       " 137: [158517184387, 158598730949],\n",
       " 138: [158531991853, 158533353117],\n",
       " 139: [158521301133, 158534549343],\n",
       " 140: [158533354273, 158522026731],\n",
       " 141: [158598445843, 158527376757, 158516777955, 158501445619],\n",
       " 142: [158535148871, 158503304103],\n",
       " 143: [158516021289, 158514616667],\n",
       " 144: [158517759517, 158514685721, 158539182533],\n",
       " 145: [158503026865, 158509022995],\n",
       " 146: [158507706023, 158509121655],\n",
       " 147: [158516916291, 158536254775],\n",
       " 148: [158599067639, 158527201929, 158537587677],\n",
       " 149: [158503950797, 158524140671, 158516980805],\n",
       " 150: [158526185775, 158535786175],\n",
       " 151: [158514402335, 158522854543, 158505504685, 158525430615, 158527223611],\n",
       " 152: [158507349631, 158507641221],\n",
       " 153: [158530000899, 158526227413],\n",
       " 154: [158533540347,\n",
       "  158535751957,\n",
       "  158517527975,\n",
       "  158528686639,\n",
       "  158521341117,\n",
       "  158502934945,\n",
       "  158598060279,\n",
       "  158516809643,\n",
       "  158502299071,\n",
       "  158505594097,\n",
       "  158528956873,\n",
       "  158503200193,\n",
       "  158501300583,\n",
       "  158536953997],\n",
       " 155: [158537489197, 158525421529],\n",
       " 156: [158500866241, 158522667023],\n",
       " 157: [158526671583, 158599743955, 158531044325, 158523903075],\n",
       " 158: [158504682725, 158507135235, 158514437601, 158504447167],\n",
       " 159: [158531211871, 158531370233, 158531369679],\n",
       " 160: [158590044649, 158526548239],\n",
       " 161: [158599857493, 158528500229, 158530063945],\n",
       " 162: [158530585825, 158598260389],\n",
       " 163: [158598948789, 158502217605],\n",
       " 164: [158525689937, 158528799079],\n",
       " 165: [158537302231, 158523514497, 158503622363],\n",
       " 166: [158598811977, 158538122633],\n",
       " 167: [158537181927, 158527860603],\n",
       " 168: [158509654947,\n",
       "  158515508537,\n",
       "  158505222979,\n",
       "  158530584193,\n",
       "  158503394083,\n",
       "  158514202267,\n",
       "  158530566097,\n",
       "  158534239163],\n",
       " 169: [158523272751, 158527231857],\n",
       " 170: [158535695451, 158522643507, 158526487191],\n",
       " 171: [158508353537, 158500118785, 158514558413],\n",
       " 172: [158598018883, 158593309251, 158593315855, 158535015081, 158520476383],\n",
       " 173: [158523836371, 158506480705, 158517926015, 158527000279],\n",
       " 174: [158521371639, 158522566517],\n",
       " 175: [158514322281, 158534734601],\n",
       " 176: [158515157597, 158505546973],\n",
       " 177: [158537023931, 158527531553],\n",
       " 178: [158507102895, 158520113163],\n",
       " 179: [158536407037, 158508948493],\n",
       " 180: [158526463709, 158527694541],\n",
       " 181: [158505189195, 158503725609],\n",
       " 182: [158514474775, 158535616489],\n",
       " 183: [158521688857, 158537005153, 158510894305],\n",
       " 184: [158503130511, 158598116137],\n",
       " 185: [158529529281, 158505503391, 158533125199, 158598463589],\n",
       " 186: [158529256977, 158536427059],\n",
       " 187: [158590542743, 158504191105],\n",
       " 188: [158537332201, 158514719993, 158531800001],\n",
       " 189: [158534099673, 158520843211, 158516122039],\n",
       " 190: [158599630797, 158538527325],\n",
       " 191: [158534328331, 158537410349],\n",
       " 192: [158507621769, 158523020255, 158529016697],\n",
       " 193: [158527193343, 158530880373],\n",
       " 194: [158529103827, 158516092627],\n",
       " 195: [158537727589, 158514581337, 158531615661],\n",
       " 196: [158598568103, 158517830421, 158516746181, 158529403813],\n",
       " 197: [158537712885, 158508461399],\n",
       " 198: [158507233463, 158503297217, 158534085701],\n",
       " 199: [158501478351, 158515687709, 158515687371, 158520975727, 158520980947],\n",
       " 200: [158533416191, 158527429483],\n",
       " 201: [158502585805, 158598020189],\n",
       " 202: [158501126913, 158520741311, 158504148593, 158531770969, 158535755133],\n",
       " 203: [158531487575, 158517457837],\n",
       " 204: [158505286989, 158522020289],\n",
       " 205: [158534170071, 158527685563],\n",
       " 206: [158534768887, 158523270043, 158522501775],\n",
       " 207: [158528289189, 158599564769],\n",
       " 208: [158590303821, 158590838451],\n",
       " 209: [158539866177, 158506004445],\n",
       " 210: [158530987885, 158535411939],\n",
       " 211: [158508429945, 158535964085, 158507138027],\n",
       " 212: [158531177573, 158592158343, 158531097885],\n",
       " 213: [158524948585,\n",
       "  158539028395,\n",
       "  158524948335,\n",
       "  158503780351,\n",
       "  158533578111,\n",
       "  158537650175],\n",
       " 214: [158521286401, 158501321905],\n",
       " 215: [158516861607, 158536140319],\n",
       " 216: [158520359911, 158536314175],\n",
       " 217: [158502020297, 158501330223],\n",
       " 218: [158529054179, 158521156315],\n",
       " 219: [158535821517, 158503039581, 158599154801],\n",
       " 220: [158522508951, 158516597249],\n",
       " 221: [158535905161, 158524140979, 158521417305],\n",
       " 222: [158530963141, 158507074769, 158598254117],\n",
       " 223: [158531970065, 158523510401],\n",
       " 224: [158598330785, 158535195045],\n",
       " 225: [158503816577, 158537221881],\n",
       " 226: [158527593937, 158522504541],\n",
       " 227: [158516632821, 158516632803],\n",
       " 228: [158503307661, 158501549973],\n",
       " 229: [158533004503, 158533004431],\n",
       " 230: [158506392269, 158516549441],\n",
       " 231: [158537009077, 158521102621, 158522247851],\n",
       " 232: [158527991343, 158522270685, 158522270977],\n",
       " 233: [158532977087, 158515832587],\n",
       " 234: [158532894565, 158538220999],\n",
       " 235: [158502964229, 158591851671, 158503686001, 158534238613, 158507315643],\n",
       " 236: [158527543323, 158599409443],\n",
       " 237: [158593371137, 158507056279],\n",
       " 238: [158529669009, 158526172209, 158539868605],\n",
       " 239: [158598839465, 158533891789, 158526864271],\n",
       " 240: [158514081677, 158529968965],\n",
       " 241: [158506558059, 158590237991],\n",
       " 242: [158590257539, 158590237927],\n",
       " 243: [158526007521, 158503761311, 158505393731, 158526419243],\n",
       " 244: [158524647663, 158537045417, 158522710709],\n",
       " 245: [158539459583, 158526876459],\n",
       " 246: [158526707759, 158524918501, 158532571345],\n",
       " 247: [158599493415, 158590671749, 158599493449, 158531333125],\n",
       " 248: [158592608037, 158521057825, 158508828513, 158592556043, 158527822443],\n",
       " 249: [158500612893, 158537809043, 158590802391, 158530654247],\n",
       " 250: [158506548515, 158523395825],\n",
       " 251: [158529454067, 158500606211, 158504549251],\n",
       " 252: [158535029147, 158535839405, 158517492113],\n",
       " 253: [158537734435, 158533837597, 158526604825],\n",
       " 254: [158531215197, 158521088207, 158599893059, 158525604815],\n",
       " 255: [158517695351, 158528158521],\n",
       " 256: [158523065759, 158531197181, 158536405201],\n",
       " 257: [158599944901, 158537959439],\n",
       " 258: [158599675973, 158593967633],\n",
       " 259: [158529511507, 158533473557],\n",
       " 260: [158599392563, 158599394057],\n",
       " 261: [158593871445, 158507321259, 158539872275, 158539978585],\n",
       " 262: [158527700611, 158527932733],\n",
       " 263: [158509345953, 158522532707, 158530932401],\n",
       " 264: [158525545387, 158533190063, 158506092285],\n",
       " 265: [158502679921, 158502681069],\n",
       " 266: [158532204289, 158521274895, 158590684575],\n",
       " 267: [158538527985, 158530708105],\n",
       " 268: [158520946757, 158529278933],\n",
       " 269: [158523332959, 158590238933],\n",
       " 270: [158520402681, 158525281827, 158506086541],\n",
       " 271: [158502269467, 158533789527],\n",
       " 272: [158502313605, 158517264901],\n",
       " 273: [158516103245, 158590246183],\n",
       " 274: [158539225833, 158534396775],\n",
       " 275: [158527368057, 158528250261],\n",
       " 276: [158538982633, 158538202751],\n",
       " 277: [158537167847, 158523705033],\n",
       " 278: [158500468857, 158530628931],\n",
       " 279: [158507772285, 158599212629],\n",
       " 280: [158590206143, 158500422461, 158538421045, 158517601935],\n",
       " 281: [158516863615, 158534400203],\n",
       " 282: [158528972593, 158527185851],\n",
       " 283: [158514226745, 158599337515],\n",
       " 284: [158502624827, 158507606357],\n",
       " 285: [158525392323, 158524766835],\n",
       " 286: [158505538983, 158525277975, 158517126139, 158523278461],\n",
       " 287: [158539043273, 158538304929],\n",
       " 288: [158523677105, 158532939981, 158525387823],\n",
       " 289: [158532036007, 158536521561],\n",
       " 290: [158506093403, 158516799767, 158591351479],\n",
       " 291: [158520469681, 158526576621],\n",
       " 292: [158523935017, 158524231851],\n",
       " 293: [158539865717, 158504968307],\n",
       " 294: [158520966749, 158538005601],\n",
       " 295: [158508417651, 158500996007, 158534584617],\n",
       " 296: [158521644119, 158502683611, 158520842209],\n",
       " 297: [158533952529, 158534409391],\n",
       " 298: [158504171807, 158517891087, 158504171589],\n",
       " 299: [158523064905, 158516431899, 158500950797, 158527065785],\n",
       " 300: [158522851845, 158501557103],\n",
       " 301: [158507823849, 158525277789],\n",
       " 302: [158508973131, 158534104565, 158506811071],\n",
       " 303: [158508864735, 158592201775],\n",
       " 304: [158525269175, 158535102481],\n",
       " 305: [158509505845, 158534326833],\n",
       " 306: [158516819557, 158516819309],\n",
       " 307: [158521134041, 158506650373],\n",
       " 308: [158524444617, 158523373543],\n",
       " 309: [158503367865, 158501557263],\n",
       " 310: [158526233225, 158598974849],\n",
       " 311: [158531133961, 158537771627],\n",
       " 312: [158514731597, 158599784313],\n",
       " 313: [158502847383, 158535689611],\n",
       " 314: [158526042001, 158530967851],\n",
       " 315: [158598472681, 158506012575],\n",
       " 316: [158506039059, 158527014991],\n",
       " 317: [158521749437, 158503697375],\n",
       " 318: [158533553405, 158534084891],\n",
       " 319: [158507322815, 158537222109, 158534778517],\n",
       " 320: [158514786023, 158598967733],\n",
       " 321: [158530972537, 158598992329, 158525734415],\n",
       " 322: [158509066781, 158525746715],\n",
       " 323: [158598718319, 158522930839, 158537942677],\n",
       " 324: [158590419441, 158514711277],\n",
       " 325: [158599214323, 158501143067],\n",
       " 326: [158531816657, 158593257033],\n",
       " 327: [158522625265, 158525820327],\n",
       " 328: [158539182145, 158521282171],\n",
       " 329: [158536924455, 158500994795],\n",
       " 330: [158528815835, 158539492551],\n",
       " 331: [158522480881, 158535357147, 158599834357],\n",
       " 332: [158515546561, 158525414061],\n",
       " 333: [158503531357, 158516797249],\n",
       " 334: [158599304333, 158599304335],\n",
       " 335: [158539212595, 158500515655],\n",
       " 336: [158537481769, 158599244739],\n",
       " 337: [158514768909, 158531018315],\n",
       " 338: [158500930139, 158515744097],\n",
       " 339: [158598850435, 158522134783],\n",
       " 340: [158535946699, 158527888449],\n",
       " 341: [158521517957, 158520675947],\n",
       " 342: [158523284315, 158538406629, 158599593211],\n",
       " 343: [158503465273, 158508415291],\n",
       " 344: [158520925953, 158532711045],\n",
       " 345: [158516561749, 158523696303],\n",
       " 346: [158533134533, 158520756013],\n",
       " 347: [158525544297, 158522944879],\n",
       " 348: [158517232731, 158505653213],\n",
       " 349: [158598318911, 158526176815, 158506838305],\n",
       " 350: [158539863973, 158523460421],\n",
       " 351: [158526807159, 158514188329],\n",
       " 352: [158505548487, 158531227757],\n",
       " 353: [158500821789, 158533261015],\n",
       " 354: [158523346579, 158590240843]}"
      ]
     },
     "execution_count": 296,
     "metadata": {},
     "output_type": "execute_result"
    }
   ],
   "source": [
    "persons"
   ]
  },
  {
   "cell_type": "code",
   "execution_count": 304,
   "metadata": {},
   "outputs": [],
   "source": [
    "target_df['new_coordinates'] = target_df.coordinates.apply(lambda row: row[:147] if len(row) > 147 else row + [0] * (147 - (len(row))))"
   ]
  },
  {
   "cell_type": "code",
   "execution_count": 321,
   "metadata": {},
   "outputs": [],
   "source": [
    "from sklearn.cluster import KMeans, SpectralClustering, AgglomerativeClustering\n",
    "from sklearn.metrics import silhouette_score"
   ]
  },
  {
   "cell_type": "code",
   "execution_count": 316,
   "metadata": {},
   "outputs": [],
   "source": [
    "matrix = target_df.new_coordinates.values.tolist()\n",
    "matrix = list(matrix)"
   ]
  },
  {
   "cell_type": "markdown",
   "metadata": {},
   "source": [
    "__В соседнем ноутбуке обучалась агломеративная модель, ее скор получился повыше__"
   ]
  },
  {
   "cell_type": "code",
   "execution_count": 393,
   "metadata": {},
   "outputs": [
    {
     "name": "stdout",
     "output_type": "stream",
     "text": [
      "aglomerative\n",
      "0.2429356097039267 360\n"
     ]
    }
   ],
   "source": [
    "print('aglomerative')\n",
    "print('0.2429356097039267 360')"
   ]
  },
  {
   "cell_type": "code",
   "execution_count": 394,
   "metadata": {},
   "outputs": [],
   "source": [
    "algo_model = AgglomerativeClustering(n_clusters=360)\n",
    "algo_labels = algo_model.fit_predict(matrix)"
   ]
  },
  {
   "cell_type": "code",
   "execution_count": 395,
   "metadata": {},
   "outputs": [],
   "source": [
    "target_df['new_target_algo'] = algo_labels"
   ]
  },
  {
   "cell_type": "code",
   "execution_count": 396,
   "metadata": {},
   "outputs": [],
   "source": [
    "algo_commit = []\n",
    "for i in range(max(algo_labels)+1):\n",
    "    algo_commit.append(target_df[target_df['new_target']==i].number.values.tolist())"
   ]
  },
  {
   "cell_type": "code",
   "execution_count": 397,
   "metadata": {},
   "outputs": [],
   "source": [
    "with open('algo_predict.txt', 'w') as f:\n",
    "    for ind, item in enumerate(algo_commit):\n",
    "        f.write(f\"{ind}%s\\n\" % item)"
   ]
  },
  {
   "cell_type": "markdown",
   "metadata": {},
   "source": [
    "__KMeans__"
   ]
  },
  {
   "cell_type": "code",
   "execution_count": 383,
   "metadata": {},
   "outputs": [
    {
     "name": "stdout",
     "output_type": "stream",
     "text": [
      "0.18591343319071676 367\n"
     ]
    }
   ],
   "source": [
    "fitter('kmeans')"
   ]
  },
  {
   "cell_type": "code",
   "execution_count": 384,
   "metadata": {},
   "outputs": [],
   "source": [
    "model = KMeans(n_clusters=367, n_jobs=-1, random_state=666)\n",
    "labels = model.fit_predict(matrix)"
   ]
  },
  {
   "cell_type": "code",
   "execution_count": 389,
   "metadata": {},
   "outputs": [],
   "source": [
    "target_df['new_target'] = labels"
   ]
  },
  {
   "cell_type": "code",
   "execution_count": 390,
   "metadata": {},
   "outputs": [],
   "source": [
    "commit = []\n",
    "for i in range(max(labels)+1):\n",
    "    commit.append(target_df[target_df['new_target']==i].number.values.tolist())"
   ]
  },
  {
   "cell_type": "code",
   "execution_count": 391,
   "metadata": {},
   "outputs": [],
   "source": [
    "with open('kmeans_predict.txt', 'w') as f:\n",
    "    for ind, item in enumerate(commit):\n",
    "        f.write(f\"{ind}%s\\n\" % item)"
   ]
  },
  {
   "cell_type": "markdown",
   "metadata": {},
   "source": [
    "__Spectral__"
   ]
  },
  {
   "cell_type": "markdown",
   "metadata": {},
   "source": [
    "*useless*"
   ]
  },
  {
   "cell_type": "code",
   "execution_count": 367,
   "metadata": {},
   "outputs": [
    {
     "name": "stdout",
     "output_type": "stream",
     "text": [
      "spectral\n",
      "-0.4081630756375944 200\n"
     ]
    }
   ],
   "source": [
    "print(\"spectral\")\n",
    "print(-0.4081630756375944, 200)"
   ]
  },
  {
   "cell_type": "markdown",
   "metadata": {},
   "source": [
    "__Зафиксим разметку полученную от полуподхода, вычисленную через схожести векторов__"
   ]
  },
  {
   "cell_type": "code",
   "execution_count": 398,
   "metadata": {},
   "outputs": [
    {
     "name": "stdout",
     "output_type": "stream",
     "text": [
      "\n"
     ]
    }
   ],
   "source": [
    "foo = facts.phone_nums.values.tolist()\n",
    "persons_txt = list(persons.values()) + foo\n",
    "with open('commit.txt', 'w') as f:\n",
    "    for ind, item in enumerate(persons_txt):\n",
    "        f.write(f\"{ind}%s\\n\" % item)"
   ]
  },
  {
   "cell_type": "markdown",
   "metadata": {},
   "source": [
    "## Conclusion"
   ]
  },
  {
   "cell_type": "markdown",
   "metadata": {},
   "source": [
    "В итоге, к чему мы пришли, что было сделано, что было придумано но не сделано, что придумано сделано, но не отражено в отчете. \n",
    "\n",
    "__1__.\n",
    "Начну пожалуй с того, что сделано, проведен анализ логов базовых станций, на предмет детекции, несколькосимочных и несколькодевайсовых персон. Преобразованы и предобработаны несколько показателей. Получилось раздвинуть координаты, за счет инфы по углу обзора и дальности сигнала. Визуализирован процесс наложения координат при пересечении маршрутов, что предполагается важным показателем схожести номеров. Далее эвристически получен параметр epsilon, параметр, являющийся трешхолдом при детекции схожих номеров. После применения данной эвристики, получено приближенное количество персон, которое использовалось в качестве гиперпараметра для алгоритмов кластеризации (метрикой качества являлся коэффициент силуэта, учитывающий внутриклассовое и межклассовое расстояние). В самом начале анализа датасета, было замечено пару моментов, когда размеченные данные пересекались между собой, поэтому несколько критически отнесясь к разметке я запилил кластеризацию на всех номерах (на случай ошибки, есть commit.txt с сохраненной разметкой facts.xlsx + разметка по схожести)\n",
    "\n",
    "__2__.\n",
    "Было пару идей, использовать imei, так как это просто 100% детекция, двухсимочных телефонов, будь побольше времени (которого я бы мог уделить). Я бы обязательно понаходил из хорошо размеченных номеров, его односимочных братьев с таким же imei (было пару попыток, но дальше к сожалению я не пошел). Также не были использованы метаданные о активностях. Которые хорошо показывают периодичность действий и неплохо отражают персону. Отдельно стоит выделить timestamp, используя время можно было сделать времянной ряд и чекать не координаты а присутствие в секторах, которые образуются если учитывать угол и дальность обзора. Тем самым перейти от непрерывных вещественных чисел, к бинарной разметке с частотой записанной как вес показателя.\n",
    "\n",
    "__3__.\n",
    "В целом все, спасибо за задачу. Надеюсь в любом случае, вы поделитесь ее правильным решением."
   ]
  }
 ],
 "metadata": {
  "kernelspec": {
   "display_name": "Python 3",
   "language": "python",
   "name": "python3"
  },
  "language_info": {
   "codemirror_mode": {
    "name": "ipython",
    "version": 3
   },
   "file_extension": ".py",
   "mimetype": "text/x-python",
   "name": "python",
   "nbconvert_exporter": "python",
   "pygments_lexer": "ipython3",
   "version": "3.6.8"
  }
 },
 "nbformat": 4,
 "nbformat_minor": 2
}
